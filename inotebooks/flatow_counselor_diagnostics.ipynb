{
 "metadata": {
  "name": ""
 },
 "nbformat": 3,
 "nbformat_minor": 0,
 "worksheets": [
  {
   "cells": [
    {
     "cell_type": "code",
     "collapsed": false,
     "input": [
      "import munging.ctl_utils as ctl_utils\n",
      "import pandas as pd\n",
      "import report\n",
      "import numpy as np\n",
      "reload(report)\n",
      "reload(ctl_utils)\n",
      "pd.set_option('display.max_rows', 500)"
     ],
     "language": "python",
     "metadata": {},
     "outputs": [],
     "prompt_number": 30
    },
    {
     "cell_type": "code",
     "collapsed": false,
     "input": [
      "# get conversation data\n",
      "%cd Database\n",
      "%cd CrisisTextLine/\n",
      "cnv = ctl_utils.parse_conversations(path='dk_conversation_level_1311114_clean.csv')"
     ],
     "language": "python",
     "metadata": {},
     "outputs": [
      {
       "output_type": "stream",
       "stream": "stdout",
       "text": [
        "(bookmark:Database) -> /Users/daflatow/Dropbox/Database/\n",
        "/Users/daflatow/Dropbox/Database\n",
        "/Users/daflatow/Dropbox/Database/CrisisTextLine\n"
       ]
      }
     ],
     "prompt_number": 31
    },
    {
     "cell_type": "code",
     "collapsed": false,
     "input": [
      "def pct_responses_table(df, field):\n",
      "    \"\"\" returns a pandas series with the fraction of each \n",
      "    unique value in the rows of field of df (and also a number of observations)\n",
      "    \"\"\"\n",
      "    \n",
      "    # extract col\n",
      "    s = df[field].copy()\n",
      "    \n",
      "    s[s.isnull()] = 'null'\n",
      "    \n",
      "    # get unique values\n",
      "    outcomes = list(s.unique())\n",
      "    \n",
      "    nobs = len(df)\n",
      "    \n",
      "    results = {}\n",
      "    for outcome in outcomes:  \n",
      "        results['pct_' + outcome] = (s == outcome).mean() * 100\n",
      "        \n",
      "    results['nobs'] = nobs \n",
      "    \n",
      "    results = pd.Series(results).astype(int)\n",
      "    \n",
      "    return results\n",
      "\n",
      "def mk_counselor_diagnostics(df, field, report_caption, report_obj):\n",
      "    \"\"\" calls pct_responses_table on subsets of df grouped by counselor id \n",
      "    and appends a report to report_object.\n",
      "    \"\"\"\n",
      "    full_sample = pct_responses_table(cnv, field)\n",
      "    full_sample.sort(ascending=False)\n",
      "    top_6_responses = list(full_sample.iloc[:6].index)\n",
      "    \n",
      "    results = cnv.groupby('specialist_id').apply(pct_responses_table, field)\n",
      "    results = results.unstack().fillna(0)\n",
      "    results = results.sort(columns='nobs', ascending=False)\n",
      "    \n",
      "    report_obj += [report.Table(results[top_6_responses], caption=report_caption)]\n",
      "    return report_obj\n"
     ],
     "language": "python",
     "metadata": {},
     "outputs": [],
     "prompt_number": 33
    },
    {
     "cell_type": "code",
     "collapsed": false,
     "input": [
      "# initialize report object\n",
      "rep = report.Report(title='Counselor_Diagnostics', author='Team Awesome',\n",
      "                    name='Counselor_Diagnostics', root_dir='/Users/daflatow/Dropbox/Python/DataDive/')\n",
      "\n",
      "# field to make counselor reports out of\n",
      "fields = ['Q2_conv_type', 'Q8_conv_resolution', 'Q13_issues', 'Q14_issues', \n",
      "          'Q15_presenting_issue', 'Q36_visitor_feeling', 'Q37_counselor_feeling2']\n",
      "\n",
      "for field in fields:\n",
      "    rep = mk_counselor_diagnostics(cnv, field , field + '_diagnostics', rep)\n",
      "\n",
      "rep.save(name='Counselor_Diagnostics')"
     ],
     "language": "python",
     "metadata": {},
     "outputs": [],
     "prompt_number": 34
    }
   ],
   "metadata": {}
  }
 ]
}